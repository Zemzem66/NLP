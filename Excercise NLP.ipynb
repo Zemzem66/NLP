{
 "cells": [
  {
   "cell_type": "markdown",
   "id": "b679f6c4",
   "metadata": {},
   "source": [
    "# Python exercise sheet A\n",
    "This exercise sheet uses the dataset of Taylor Swift quotes provided on the Moodle page of the course"
   ]
  },
  {
   "cell_type": "code",
   "execution_count": 28,
   "id": "f2318bc1",
   "metadata": {},
   "outputs": [
    {
     "name": "stdout",
     "output_type": "stream",
     "text": [
      "Requirement already satisfied: nltk in c:\\users\\lenovo\\anaconda3\\lib\\site-packages (3.6.5)\n",
      "Requirement already satisfied: click in c:\\users\\lenovo\\anaconda3\\lib\\site-packages (from nltk) (8.0.3)\n",
      "Requirement already satisfied: joblib in c:\\users\\lenovo\\anaconda3\\lib\\site-packages (from nltk) (1.1.0)\n",
      "Requirement already satisfied: regex>=2021.8.3 in c:\\users\\lenovo\\anaconda3\\lib\\site-packages (from nltk) (2021.8.3)\n",
      "Requirement already satisfied: tqdm in c:\\users\\lenovo\\anaconda3\\lib\\site-packages (from nltk) (4.62.3)\n",
      "Requirement already satisfied: colorama in c:\\users\\lenovo\\anaconda3\\lib\\site-packages (from click->nltk) (0.4.4)\n"
     ]
    }
   ],
   "source": [
    "#install\n",
    "!pip install nltk"
   ]
  },
  {
   "cell_type": "code",
   "execution_count": 22,
   "id": "04c7b73b",
   "metadata": {},
   "outputs": [],
   "source": [
    "#Imports\n",
    "import re\n",
    "import string\n"
   ]
  },
  {
   "cell_type": "markdown",
   "id": "b1b5cd23",
   "metadata": {},
   "source": [
    "\n",
    "# Load the text"
   ]
  },
  {
   "cell_type": "code",
   "execution_count": 1,
   "id": "51920a36",
   "metadata": {},
   "outputs": [
    {
     "name": "stdout",
     "output_type": "stream",
     "text": [
      "When I was a little girl I used to read fairy tales. In fairy tales you meet Prince Charming and he's everything you ever wanted. In fairy tales the bad guy is very easy to spot. The bad guy is always wearing a black cape so you always know who he is. Then you grow up and you realize that Prince Charming is not as easy to find as you thought. You realize the bad guy is not wearing a black cape and he's not easy to spot; he's really funny, and he makes you laugh, and he has perfect hair.\n",
      "I suffer from girl-next-door-itis where the guy is friends with you and that's it.\n",
      "Iâ€™ve learned that you canâ€™t predict [love] or plan for it. For someone like me who is obsessed with organization and planning, I love the idea that love is the one exception to that. Love is the one wild card.\n",
      "In high school, I used to think it was like sooooo cool if a guy had an awesome car. Now none of that matters. These days I look for character, and honesty, and trust.\n",
      "I write songs about my adventures and misadventures, most of which concern love. Love is a tricky business. But if it wasn't, I wouldn't be so enthralled with it. Lately I've come to a wonderful realization that makes me even more fascinated by it: I have no idea what I'm doing when it comes to love. No one does! There's no pattern to it, except that it happens to all of us, of course. I can't plan for it. I can't predict how it'll end up. Because love is unpredictable and it's frustrating and it's tragic and it's beautiful. And even though there's no way to feel like I'm an expert at it, it's worth writing songs about -- more than anything else I've ever experienced in my life.\n",
      "I love you like I love sparkles and having the last word. And that's real love.\n",
      "I write a lot of songs about love and I think thatâ€™s because to me love seems like this huge complicated thing. But it seems like every once in a while, two people get it figured out, two people get it right. And so I think the rest of us, we walk around daydreaming about what that might be like. To find that one great love, where all of a sudden everything that seemed to be so complicated, became simple. And everything that used to seem so wrong all of a sudden seemed right because you were with the person who made you feel fearless.\n",
      "Why leave when you can stay, why stay if you have to go\n",
      "If you're horrible to me, I'm going to write a song about it, and you won't like it. That's how I operate.\n",
      "Just because as human beings, what we can't have is what we reply in our head over and over again before we go to sleep.\n",
      "I still love sparkles and grocery shopping and really old cats that are only nice to you half the time. I still love writing in my journal and wearing dresses all the time and staring at chandeliers.\n",
      "I love these people so much and getting to go out there to look them in the eye and tell them that is my favorite part of the night.\n",
      "We should love, not fall in love because everything that falls breaks.\n",
      "In a relationship each person should support the other; they should lift each other up.\n",
      "I'm not opposed to falling in love\n",
      "You need to be happy with yourself or you'll never be able to be happy in a relationship.\n"
     ]
    }
   ],
   "source": [
    "# Open the file for reading\n",
    "with open(\"TaylorSwiftQuotes.txt\", \"r\") as file:\n",
    "    # Read the content of the file\n",
    "    TaylorSwiftQuotes = file.read()\n",
    "\n",
    "# Now, 'quotes' contains the text from the file\n",
    "print(TaylorSwiftQuotes)"
   ]
  },
  {
   "cell_type": "markdown",
   "id": "6dc1d2f0",
   "metadata": {},
   "source": [
    "# Exercise A.1: Preprocessing\n",
    "1. Lowercase the text."
   ]
  },
  {
   "cell_type": "code",
   "execution_count": 3,
   "id": "370d22ae",
   "metadata": {},
   "outputs": [
    {
     "name": "stdout",
     "output_type": "stream",
     "text": [
      "when i was a little girl i used to read fairy tales. in fairy tales you meet prince charming and he's everything you ever wanted. in fairy tales the bad guy is very easy to spot. the bad guy is always wearing a black cape so you always know who he is. then you grow up and you realize that prince charming is not as easy to find as you thought. you realize the bad guy is not wearing a black cape and he's not easy to spot; he's really funny, and he makes you laugh, and he has perfect hair.\n",
      "i suffer from girl-next-door-itis where the guy is friends with you and that's it.\n",
      "iâ€™ve learned that you canâ€™t predict [love] or plan for it. for someone like me who is obsessed with organization and planning, i love the idea that love is the one exception to that. love is the one wild card.\n",
      "in high school, i used to think it was like sooooo cool if a guy had an awesome car. now none of that matters. these days i look for character, and honesty, and trust.\n",
      "i write songs about my adventures and misadventures, most of which concern love. love is a tricky business. but if it wasn't, i wouldn't be so enthralled with it. lately i've come to a wonderful realization that makes me even more fascinated by it: i have no idea what i'm doing when it comes to love. no one does! there's no pattern to it, except that it happens to all of us, of course. i can't plan for it. i can't predict how it'll end up. because love is unpredictable and it's frustrating and it's tragic and it's beautiful. and even though there's no way to feel like i'm an expert at it, it's worth writing songs about -- more than anything else i've ever experienced in my life.\n",
      "i love you like i love sparkles and having the last word. and that's real love.\n",
      "i write a lot of songs about love and i think thatâ€™s because to me love seems like this huge complicated thing. but it seems like every once in a while, two people get it figured out, two people get it right. and so i think the rest of us, we walk around daydreaming about what that might be like. to find that one great love, where all of a sudden everything that seemed to be so complicated, became simple. and everything that used to seem so wrong all of a sudden seemed right because you were with the person who made you feel fearless.\n",
      "why leave when you can stay, why stay if you have to go\n",
      "if you're horrible to me, i'm going to write a song about it, and you won't like it. that's how i operate.\n",
      "just because as human beings, what we can't have is what we reply in our head over and over again before we go to sleep.\n",
      "i still love sparkles and grocery shopping and really old cats that are only nice to you half the time. i still love writing in my journal and wearing dresses all the time and staring at chandeliers.\n",
      "i love these people so much and getting to go out there to look them in the eye and tell them that is my favorite part of the night.\n",
      "we should love, not fall in love because everything that falls breaks.\n",
      "in a relationship each person should support the other; they should lift each other up.\n",
      "i'm not opposed to falling in love\n",
      "you need to be happy with yourself or you'll never be able to be happy in a relationship.\n"
     ]
    }
   ],
   "source": [
    "text_lowercase = TaylorSwiftQuotes.lower()\n",
    "print(text_lowercase)"
   ]
  },
  {
   "cell_type": "raw",
   "id": "160ec669",
   "metadata": {},
   "source": [
    "# 2. Remove digits from the text.\n"
   ]
  },
  {
   "cell_type": "code",
   "execution_count": 10,
   "id": "992185f1",
   "metadata": {},
   "outputs": [
    {
     "name": "stdout",
     "output_type": "stream",
     "text": [
      "When I was a little girl I used to read fairy tales. In fairy tales you meet Prince Charming and he's everything you ever wanted. In fairy tales the bad guy is very easy to spot. The bad guy is always wearing a black cape so you always know who he is. Then you grow up and you realize that Prince Charming is not as easy to find as you thought. You realize the bad guy is not wearing a black cape and he's not easy to spot; he's really funny, and he makes you laugh, and he has perfect hair.\n",
      "I suffer from girl-next-door-itis where the guy is friends with you and that's it.\n",
      "Iâ€™ve learned that you canâ€™t predict [love] or plan for it. For someone like me who is obsessed with organization and planning, I love the idea that love is the one exception to that. Love is the one wild card.\n",
      "In high school, I used to think it was like sooooo cool if a guy had an awesome car. Now none of that matters. These days I look for character, and honesty, and trust.\n",
      "I write songs about my adventures and misadventures, most of which concern love. Love is a tricky business. But if it wasn't, I wouldn't be so enthralled with it. Lately I've come to a wonderful realization that makes me even more fascinated by it: I have no idea what I'm doing when it comes to love. No one does! There's no pattern to it, except that it happens to all of us, of course. I can't plan for it. I can't predict how it'll end up. Because love is unpredictable and it's frustrating and it's tragic and it's beautiful. And even though there's no way to feel like I'm an expert at it, it's worth writing songs about -- more than anything else I've ever experienced in my life.\n",
      "I love you like I love sparkles and having the last word. And that's real love.\n",
      "I write a lot of songs about love and I think thatâ€™s because to me love seems like this huge complicated thing. But it seems like every once in a while, two people get it figured out, two people get it right. And so I think the rest of us, we walk around daydreaming about what that might be like. To find that one great love, where all of a sudden everything that seemed to be so complicated, became simple. And everything that used to seem so wrong all of a sudden seemed right because you were with the person who made you feel fearless.\n",
      "Why leave when you can stay, why stay if you have to go\n",
      "If you're horrible to me, I'm going to write a song about it, and you won't like it. That's how I operate.\n",
      "Just because as human beings, what we can't have is what we reply in our head over and over again before we go to sleep.\n",
      "I still love sparkles and grocery shopping and really old cats that are only nice to you half the time. I still love writing in my journal and wearing dresses all the time and staring at chandeliers.\n",
      "I love these people so much and getting to go out there to look them in the eye and tell them that is my favorite part of the night.\n",
      "We should love, not fall in love because everything that falls breaks.\n",
      "In a relationship each person should support the other; they should lift each other up.\n",
      "I'm not opposed to falling in love\n",
      "You need to be happy with yourself or you'll never be able to be happy in a relationship.\n"
     ]
    }
   ],
   "source": [
    "quotes_without_digit = re.sub(r'\\d','',TaylorSwiftQuotes)\n",
    "print(quotes_without_digit)"
   ]
  },
  {
   "cell_type": "raw",
   "id": "c29dcfdd",
   "metadata": {},
   "source": [
    "3. Remove punctuation marks."
   ]
  },
  {
   "cell_type": "code",
   "execution_count": 24,
   "id": "20235c7e",
   "metadata": {},
   "outputs": [
    {
     "name": "stdout",
     "output_type": "stream",
     "text": [
      "When I was a little girl I used to read fairy tales In fairy tales you meet Prince Charming and hes everything you ever wanted In fairy tales the bad guy is very easy to spot The bad guy is always wearing a black cape so you always know who he is Then you grow up and you realize that Prince Charming is not as easy to find as you thought You realize the bad guy is not wearing a black cape and hes not easy to spot hes really funny and he makes you laugh and he has perfect hair\n",
      "I suffer from girlnextdooritis where the guy is friends with you and thats it\n",
      "Iâ€™ve learned that you canâ€™t predict love or plan for it For someone like me who is obsessed with organization and planning I love the idea that love is the one exception to that Love is the one wild card\n",
      "In high school I used to think it was like sooooo cool if a guy had an awesome car Now none of that matters These days I look for character and honesty and trust\n",
      "I write songs about my adventures and misadventures most of which concern love Love is a tricky business But if it wasnt I wouldnt be so enthralled with it Lately Ive come to a wonderful realization that makes me even more fascinated by it I have no idea what Im doing when it comes to love No one does Theres no pattern to it except that it happens to all of us of course I cant plan for it I cant predict how itll end up Because love is unpredictable and its frustrating and its tragic and its beautiful And even though theres no way to feel like Im an expert at it its worth writing songs about  more than anything else Ive ever experienced in my life\n",
      "I love you like I love sparkles and having the last word And thats real love\n",
      "I write a lot of songs about love and I think thatâ€™s because to me love seems like this huge complicated thing But it seems like every once in a while two people get it figured out two people get it right And so I think the rest of us we walk around daydreaming about what that might be like To find that one great love where all of a sudden everything that seemed to be so complicated became simple And everything that used to seem so wrong all of a sudden seemed right because you were with the person who made you feel fearless\n",
      "Why leave when you can stay why stay if you have to go\n",
      "If youre horrible to me Im going to write a song about it and you wont like it Thats how I operate\n",
      "Just because as human beings what we cant have is what we reply in our head over and over again before we go to sleep\n",
      "I still love sparkles and grocery shopping and really old cats that are only nice to you half the time I still love writing in my journal and wearing dresses all the time and staring at chandeliers\n",
      "I love these people so much and getting to go out there to look them in the eye and tell them that is my favorite part of the night\n",
      "We should love not fall in love because everything that falls breaks\n",
      "In a relationship each person should support the other they should lift each other up\n",
      "Im not opposed to falling in love\n",
      "You need to be happy with yourself or youll never be able to be happy in a relationship\n"
     ]
    }
   ],
   "source": [
    "quotoes_without_punc_mark = re.sub(f\"[{re.escape(string.punctuation)}]\",'',  TaylorSwiftQuotes)\n",
    "print(quotoes_without_punc_mark)"
   ]
  },
  {
   "cell_type": "markdown",
   "id": "0d49ebdf",
   "metadata": {},
   "source": [
    "4. Remove superfluous blanks.\n"
   ]
  },
  {
   "cell_type": "code",
   "execution_count": 27,
   "id": "bc9fc121",
   "metadata": {},
   "outputs": [
    {
     "name": "stdout",
     "output_type": "stream",
     "text": [
      "When I was a little girl I used to read fairy tales. In fairy tales you meet Prince Charming and he's everything you ever wanted. In fairy tales the bad guy is very easy to spot. The bad guy is always wearing a black cape so you always know who he is. Then you grow up and you realize that Prince Charming is not as easy to find as you thought. You realize the bad guy is not wearing a black cape and he's not easy to spot; he's really funny, and he makes you laugh, and he has perfect hair. I suffer from girl-next-door-itis where the guy is friends with you and that's it. Iâ€™ve learned that you canâ€™t predict [love] or plan for it. For someone like me who is obsessed with organization and planning, I love the idea that love is the one exception to that. Love is the one wild card. In high school, I used to think it was like sooooo cool if a guy had an awesome car. Now none of that matters. These days I look for character, and honesty, and trust. I write songs about my adventures and misadventures, most of which concern love. Love is a tricky business. But if it wasn't, I wouldn't be so enthralled with it. Lately I've come to a wonderful realization that makes me even more fascinated by it: I have no idea what I'm doing when it comes to love. No one does! There's no pattern to it, except that it happens to all of us, of course. I can't plan for it. I can't predict how it'll end up. Because love is unpredictable and it's frustrating and it's tragic and it's beautiful. And even though there's no way to feel like I'm an expert at it, it's worth writing songs about -- more than anything else I've ever experienced in my life. I love you like I love sparkles and having the last word. And that's real love. I write a lot of songs about love and I think thatâ€™s because to me love seems like this huge complicated thing. But it seems like every once in a while, two people get it figured out, two people get it right. And so I think the rest of us, we walk around daydreaming about what that might be like. To find that one great love, where all of a sudden everything that seemed to be so complicated, became simple. And everything that used to seem so wrong all of a sudden seemed right because you were with the person who made you feel fearless. Why leave when you can stay, why stay if you have to go If you're horrible to me, I'm going to write a song about it, and you won't like it. That's how I operate. Just because as human beings, what we can't have is what we reply in our head over and over again before we go to sleep. I still love sparkles and grocery shopping and really old cats that are only nice to you half the time. I still love writing in my journal and wearing dresses all the time and staring at chandeliers. I love these people so much and getting to go out there to look them in the eye and tell them that is my favorite part of the night. We should love, not fall in love because everything that falls breaks. In a relationship each person should support the other; they should lift each other up. I'm not opposed to falling in love You need to be happy with yourself or you'll never be able to be happy in a relationship.\n"
     ]
    }
   ],
   "source": [
    "remove_superfluous_blank = re.sub('\\s+',' ', TaylorSwiftQuotes)\n",
    "print(remove_superfluous_blank)"
   ]
  },
  {
   "cell_type": "markdown",
   "id": "fe24525c",
   "metadata": {},
   "source": [
    "\n",
    "# Exercise A.2: Tokenization"
   ]
  },
  {
   "cell_type": "markdown",
   "id": "aa77d26c",
   "metadata": {},
   "source": [
    "1. Tokenize the text."
   ]
  },
  {
   "cell_type": "code",
   "execution_count": 32,
   "id": "c6b3dcc3",
   "metadata": {},
   "outputs": [
    {
     "name": "stdout",
     "output_type": "stream",
     "text": [
      "Word\n",
      "['When', 'I', 'was', 'a', 'little', 'girl', 'I', 'used', 'to', 'read', 'fairy', 'tales', '.', 'In', 'fairy', 'tales', 'you', 'meet', 'Prince', 'Charming', 'and', 'he', \"'s\", 'everything', 'you', 'ever', 'wanted', '.', 'In', 'fairy', 'tales', 'the', 'bad', 'guy', 'is', 'very', 'easy', 'to', 'spot', '.', 'The', 'bad', 'guy', 'is', 'always', 'wearing', 'a', 'black', 'cape', 'so', 'you', 'always', 'know', 'who', 'he', 'is', '.', 'Then', 'you', 'grow', 'up', 'and', 'you', 'realize', 'that', 'Prince', 'Charming', 'is', 'not', 'as', 'easy', 'to', 'find', 'as', 'you', 'thought', '.', 'You', 'realize', 'the', 'bad', 'guy', 'is', 'not', 'wearing', 'a', 'black', 'cape', 'and', 'he', \"'s\", 'not', 'easy', 'to', 'spot', ';', 'he', \"'s\", 'really', 'funny', ',', 'and', 'he', 'makes', 'you', 'laugh', ',', 'and', 'he', 'has', 'perfect', 'hair', '.', 'I', 'suffer', 'from', 'girl-next-door-itis', 'where', 'the', 'guy', 'is', 'friends', 'with', 'you', 'and', 'that', \"'s\", 'it', '.', 'Iâ€™ve', 'learned', 'that', 'you', 'canâ€™t', 'predict', '[', 'love', ']', 'or', 'plan', 'for', 'it', '.', 'For', 'someone', 'like', 'me', 'who', 'is', 'obsessed', 'with', 'organization', 'and', 'planning', ',', 'I', 'love', 'the', 'idea', 'that', 'love', 'is', 'the', 'one', 'exception', 'to', 'that', '.', 'Love', 'is', 'the', 'one', 'wild', 'card', '.', 'In', 'high', 'school', ',', 'I', 'used', 'to', 'think', 'it', 'was', 'like', 'sooooo', 'cool', 'if', 'a', 'guy', 'had', 'an', 'awesome', 'car', '.', 'Now', 'none', 'of', 'that', 'matters', '.', 'These', 'days', 'I', 'look', 'for', 'character', ',', 'and', 'honesty', ',', 'and', 'trust', '.', 'I', 'write', 'songs', 'about', 'my', 'adventures', 'and', 'misadventures', ',', 'most', 'of', 'which', 'concern', 'love', '.', 'Love', 'is', 'a', 'tricky', 'business', '.', 'But', 'if', 'it', 'was', \"n't\", ',', 'I', 'would', \"n't\", 'be', 'so', 'enthralled', 'with', 'it', '.', 'Lately', 'I', \"'ve\", 'come', 'to', 'a', 'wonderful', 'realization', 'that', 'makes', 'me', 'even', 'more', 'fascinated', 'by', 'it', ':', 'I', 'have', 'no', 'idea', 'what', 'I', \"'m\", 'doing', 'when', 'it', 'comes', 'to', 'love', '.', 'No', 'one', 'does', '!', 'There', \"'s\", 'no', 'pattern', 'to', 'it', ',', 'except', 'that', 'it', 'happens', 'to', 'all', 'of', 'us', ',', 'of', 'course', '.', 'I', 'ca', \"n't\", 'plan', 'for', 'it', '.', 'I', 'ca', \"n't\", 'predict', 'how', 'it', \"'ll\", 'end', 'up', '.', 'Because', 'love', 'is', 'unpredictable', 'and', 'it', \"'s\", 'frustrating', 'and', 'it', \"'s\", 'tragic', 'and', 'it', \"'s\", 'beautiful', '.', 'And', 'even', 'though', 'there', \"'s\", 'no', 'way', 'to', 'feel', 'like', 'I', \"'m\", 'an', 'expert', 'at', 'it', ',', 'it', \"'s\", 'worth', 'writing', 'songs', 'about', '--', 'more', 'than', 'anything', 'else', 'I', \"'ve\", 'ever', 'experienced', 'in', 'my', 'life', '.', 'I', 'love', 'you', 'like', 'I', 'love', 'sparkles', 'and', 'having', 'the', 'last', 'word', '.', 'And', 'that', \"'s\", 'real', 'love', '.', 'I', 'write', 'a', 'lot', 'of', 'songs', 'about', 'love', 'and', 'I', 'think', 'thatâ€™s', 'because', 'to', 'me', 'love', 'seems', 'like', 'this', 'huge', 'complicated', 'thing', '.', 'But', 'it', 'seems', 'like', 'every', 'once', 'in', 'a', 'while', ',', 'two', 'people', 'get', 'it', 'figured', 'out', ',', 'two', 'people', 'get', 'it', 'right', '.', 'And', 'so', 'I', 'think', 'the', 'rest', 'of', 'us', ',', 'we', 'walk', 'around', 'daydreaming', 'about', 'what', 'that', 'might', 'be', 'like', '.', 'To', 'find', 'that', 'one', 'great', 'love', ',', 'where', 'all', 'of', 'a', 'sudden', 'everything', 'that', 'seemed', 'to', 'be', 'so', 'complicated', ',', 'became', 'simple', '.', 'And', 'everything', 'that', 'used', 'to', 'seem', 'so', 'wrong', 'all', 'of', 'a', 'sudden', 'seemed', 'right', 'because', 'you', 'were', 'with', 'the', 'person', 'who', 'made', 'you', 'feel', 'fearless', '.', 'Why', 'leave', 'when', 'you', 'can', 'stay', ',', 'why', 'stay', 'if', 'you', 'have', 'to', 'go', 'If', 'you', \"'re\", 'horrible', 'to', 'me', ',', 'I', \"'m\", 'going', 'to', 'write', 'a', 'song', 'about', 'it', ',', 'and', 'you', 'wo', \"n't\", 'like', 'it', '.', 'That', \"'s\", 'how', 'I', 'operate', '.', 'Just', 'because', 'as', 'human', 'beings', ',', 'what', 'we', 'ca', \"n't\", 'have', 'is', 'what', 'we', 'reply', 'in', 'our', 'head', 'over', 'and', 'over', 'again', 'before', 'we', 'go', 'to', 'sleep', '.', 'I', 'still', 'love', 'sparkles', 'and', 'grocery', 'shopping', 'and', 'really', 'old', 'cats', 'that', 'are', 'only', 'nice', 'to', 'you', 'half', 'the', 'time', '.', 'I', 'still', 'love', 'writing', 'in', 'my', 'journal', 'and', 'wearing', 'dresses', 'all', 'the', 'time', 'and', 'staring', 'at', 'chandeliers', '.', 'I', 'love', 'these', 'people', 'so', 'much', 'and', 'getting', 'to', 'go', 'out', 'there', 'to', 'look', 'them', 'in', 'the', 'eye', 'and', 'tell', 'them', 'that', 'is', 'my', 'favorite', 'part', 'of', 'the', 'night', '.', 'We', 'should', 'love', ',', 'not', 'fall', 'in', 'love', 'because', 'everything', 'that', 'falls', 'breaks', '.', 'In', 'a', 'relationship', 'each', 'person', 'should', 'support', 'the', 'other', ';', 'they', 'should', 'lift', 'each', 'other', 'up', '.', 'I', \"'m\", 'not', 'opposed', 'to', 'falling', 'in', 'love', 'You', 'need', 'to', 'be', 'happy', 'with', 'yourself', 'or', 'you', \"'ll\", 'never', 'be', 'able', 'to', 'be', 'happy', 'in', 'a', 'relationship', '.']\n",
      "Sentence\n",
      "['When I was a little girl I used to read fairy tales.', \"In fairy tales you meet Prince Charming and he's everything you ever wanted.\", 'In fairy tales the bad guy is very easy to spot.', 'The bad guy is always wearing a black cape so you always know who he is.', 'Then you grow up and you realize that Prince Charming is not as easy to find as you thought.', \"You realize the bad guy is not wearing a black cape and he's not easy to spot; he's really funny, and he makes you laugh, and he has perfect hair.\", \"I suffer from girl-next-door-itis where the guy is friends with you and that's it.\", 'Iâ€™ve learned that you canâ€™t predict [love] or plan for it.', 'For someone like me who is obsessed with organization and planning, I love the idea that love is the one exception to that.', 'Love is the one wild card.', 'In high school, I used to think it was like sooooo cool if a guy had an awesome car.', 'Now none of that matters.', 'These days I look for character, and honesty, and trust.', 'I write songs about my adventures and misadventures, most of which concern love.', 'Love is a tricky business.', \"But if it wasn't, I wouldn't be so enthralled with it.\", \"Lately I've come to a wonderful realization that makes me even more fascinated by it: I have no idea what I'm doing when it comes to love.\", 'No one does!', \"There's no pattern to it, except that it happens to all of us, of course.\", \"I can't plan for it.\", \"I can't predict how it'll end up.\", \"Because love is unpredictable and it's frustrating and it's tragic and it's beautiful.\", \"And even though there's no way to feel like I'm an expert at it, it's worth writing songs about -- more than anything else I've ever experienced in my life.\", 'I love you like I love sparkles and having the last word.', \"And that's real love.\", 'I write a lot of songs about love and I think thatâ€™s because to me love seems like this huge complicated thing.', 'But it seems like every once in a while, two people get it figured out, two people get it right.', 'And so I think the rest of us, we walk around daydreaming about what that might be like.', 'To find that one great love, where all of a sudden everything that seemed to be so complicated, became simple.', 'And everything that used to seem so wrong all of a sudden seemed right because you were with the person who made you feel fearless.', \"Why leave when you can stay, why stay if you have to go\\nIf you're horrible to me, I'm going to write a song about it, and you won't like it.\", \"That's how I operate.\", \"Just because as human beings, what we can't have is what we reply in our head over and over again before we go to sleep.\", 'I still love sparkles and grocery shopping and really old cats that are only nice to you half the time.', 'I still love writing in my journal and wearing dresses all the time and staring at chandeliers.', 'I love these people so much and getting to go out there to look them in the eye and tell them that is my favorite part of the night.', 'We should love, not fall in love because everything that falls breaks.', 'In a relationship each person should support the other; they should lift each other up.', \"I'm not opposed to falling in love\\nYou need to be happy with yourself or you'll never be able to be happy in a relationship.\"]\n"
     ]
    },
    {
     "name": "stderr",
     "output_type": "stream",
     "text": [
      "[nltk_data] Downloading package punkt to\n",
      "[nltk_data]     C:\\Users\\Lenovo\\AppData\\Roaming\\nltk_data...\n",
      "[nltk_data]   Package punkt is already up-to-date!\n"
     ]
    }
   ],
   "source": [
    "import nltk\n",
    "from nltk.tokenize import word_tokenize, sent_tokenize\n",
    "\n",
    "#download necessary data \n",
    "nltk.download('punkt')\n",
    "\n",
    "# Tokenize text into workds\n",
    "word_tokens = word_tokenize(TaylorSwiftQuotes)\n",
    "\n",
    "# Tokenize the text into sentences\n",
    "sentence_tokens = sent_tokenize(TaylorSwiftQuotes)\n",
    "\n",
    "# Print Word tokens\n",
    "print(\"Word\")\n",
    "print(word_tokens)\n",
    "# Print Sentence Tokens\n",
    "print(\"Sentence\")\n",
    "print(sentence_tokens)\n",
    "\n"
   ]
  },
  {
   "cell_type": "markdown",
   "id": "341159ba",
   "metadata": {},
   "source": [
    "2. Remove stopwords.\n"
   ]
  },
  {
   "cell_type": "code",
   "execution_count": 36,
   "id": "17e6f963",
   "metadata": {},
   "outputs": [
    {
     "name": "stdout",
     "output_type": "stream",
     "text": [
      "little girl used read fairy tales . fairy tales meet Prince Charming 's everything ever wanted . fairy tales bad guy easy spot . bad guy always wearing black cape always know . grow realize Prince Charming easy find thought . realize bad guy wearing black cape 's easy spot ; 's really funny , makes laugh , perfect hair . suffer girl-next-door-itis guy friends 's . Iâ€™ve learned canâ€™t predict [ love ] plan . someone like obsessed organization planning , love idea love one exception . Love one wild card . high school , used think like sooooo cool guy awesome car . none matters . days look character , honesty , trust . write songs adventures misadventures , concern love . Love tricky business . n't , would n't enthralled . Lately 've come wonderful realization makes even fascinated : idea 'm comes love . one ! 's pattern , except happens us , course . ca n't plan . ca n't predict 'll end . love unpredictable 's frustrating 's tragic 's beautiful . even though 's way feel like 'm expert , 's worth writing songs -- anything else 've ever experienced life . love like love sparkles last word . 's real love . write lot songs love think thatâ€™s love seems like huge complicated thing . seems like every , two people get figured , two people get right . think rest us , walk around daydreaming might like . find one great love , sudden everything seemed complicated , became simple . everything used seem wrong sudden seemed right person made feel fearless . leave stay , stay go 're horrible , 'm going write song , wo n't like . 's operate . human beings , ca n't reply head go sleep . still love sparkles grocery shopping really old cats nice half time . still love writing journal wearing dresses time staring chandeliers . love people much getting go look eye tell favorite part night . love , fall love everything falls breaks . relationship person support ; lift . 'm opposed falling love need happy 'll never able happy relationship .\n"
     ]
    },
    {
     "name": "stderr",
     "output_type": "stream",
     "text": [
      "[nltk_data] Downloading package stopwords to\n",
      "[nltk_data]     C:\\Users\\Lenovo\\AppData\\Roaming\\nltk_data...\n",
      "[nltk_data]   Package stopwords is already up-to-date!\n"
     ]
    }
   ],
   "source": [
    "from nltk.corpus import stopwords\n",
    "\n",
    "# Download the list of stopwords if you haven't already\n",
    "nltk.download('stopwords')\n",
    "\n",
    "# Tokenize the text into words\n",
    "words = nltk.word_tokenize(TaylorSwiftQuotes)\n",
    "\n",
    "# Get the list of englisch words\n",
    "stop_words = set(stopwords.words(\"english\"))\n",
    "\n",
    "# Remove the stop words from the lists of the word\n",
    "filtered_words = [word for word in words if word.lower() not in stop_words]\n",
    "# Join the filered words back into a single string\n",
    "\n",
    "filtered_text = ' '.join(filtered_words)\n",
    "\n",
    "# Now, ' filtered_text' contains the text with stopwords removed\n",
    "print(filtered_text)\n",
    "\n"
   ]
  },
  {
   "cell_type": "markdown",
   "id": "eae0d334",
   "metadata": {},
   "source": [
    "# Exercise A.3: Stemming and lemmatization\n"
   ]
  },
  {
   "cell_type": "markdown",
   "id": "3710a4af",
   "metadata": {},
   "source": [
    "1. Perform stemming.\n"
   ]
  },
  {
   "cell_type": "code",
   "execution_count": 38,
   "id": "732d5af8",
   "metadata": {},
   "outputs": [
    {
     "name": "stdout",
     "output_type": "stream",
     "text": [
      "when i wa a littl girl i use to read fairi tale . in fairi tale you meet princ charm and he 's everyth you ever want . in fairi tale the bad guy is veri easi to spot . the bad guy is alway wear a black cape so you alway know who he is . then you grow up and you realiz that princ charm is not as easi to find as you thought . you realiz the bad guy is not wear a black cape and he 's not easi to spot ; he 's realli funni , and he make you laugh , and he ha perfect hair . i suffer from girl-next-door- where the guy is friend with you and that 's it . iâ€™v learn that you canâ€™t predict [ love ] or plan for it . for someon like me who is obsess with organ and plan , i love the idea that love is the one except to that . love is the one wild card . in high school , i use to think it wa like sooooo cool if a guy had an awesom car . now none of that matter . these day i look for charact , and honesti , and trust . i write song about my adventur and misadventur , most of which concern love . love is a tricki busi . but if it wa n't , i would n't be so enthral with it . late i 've come to a wonder realiz that make me even more fascin by it : i have no idea what i 'm do when it come to love . no one doe ! there 's no pattern to it , except that it happen to all of us , of cours . i ca n't plan for it . i ca n't predict how it 'll end up . becaus love is unpredict and it 's frustrat and it 's tragic and it 's beauti . and even though there 's no way to feel like i 'm an expert at it , it 's worth write song about -- more than anyth els i 've ever experienc in my life . i love you like i love sparkl and have the last word . and that 's real love . i write a lot of song about love and i think thatâ€™ becaus to me love seem like thi huge complic thing . but it seem like everi onc in a while , two peopl get it figur out , two peopl get it right . and so i think the rest of us , we walk around daydream about what that might be like . to find that one great love , where all of a sudden everyth that seem to be so complic , becam simpl . and everyth that use to seem so wrong all of a sudden seem right becaus you were with the person who made you feel fearless . whi leav when you can stay , whi stay if you have to go if you 're horribl to me , i 'm go to write a song about it , and you wo n't like it . that 's how i oper . just becaus as human be , what we ca n't have is what we repli in our head over and over again befor we go to sleep . i still love sparkl and groceri shop and realli old cat that are onli nice to you half the time . i still love write in my journal and wear dress all the time and stare at chandeli . i love these peopl so much and get to go out there to look them in the eye and tell them that is my favorit part of the night . we should love , not fall in love becaus everyth that fall break . in a relationship each person should support the other ; they should lift each other up . i 'm not oppos to fall in love you need to be happi with yourself or you 'll never be abl to be happi in a relationship .\n"
     ]
    }
   ],
   "source": [
    "from nltk.stem import PorterStemmer\n",
    "\n",
    "# Initialize the Porter Stemmer\n",
    "stemmer = PorterStemmer()\n",
    "\n",
    "# Tokenize the text into words\n",
    "words = nltk.word_tokenize(TaylorSwiftQuotes)\n",
    "\n",
    "# Apply stemming to each word\n",
    "stemmed_word = [stemmer.stem(word) for word in words]\n",
    "\n",
    "# Join the stemmed words back into a single string\n",
    "stemmed_text = ' '.join(stemmed_word)\n",
    "\n",
    "# Print stemmed text\n",
    "\n",
    "print(stemmed_text)\n",
    "\n"
   ]
  },
  {
   "cell_type": "code",
   "execution_count": 41,
   "id": "a9d3d451",
   "metadata": {},
   "outputs": [
    {
     "name": "stderr",
     "output_type": "stream",
     "text": [
      "[nltk_data] Downloading package wordnet to\n",
      "[nltk_data]     C:\\Users\\Lenovo\\AppData\\Roaming\\nltk_data...\n"
     ]
    },
    {
     "name": "stdout",
     "output_type": "stream",
     "text": [
      "When I wa a little girl I used to read fairy tale . In fairy tale you meet Prince Charming and he 's everything you ever wanted . In fairy tale the bad guy is very easy to spot . The bad guy is always wearing a black cape so you always know who he is . Then you grow up and you realize that Prince Charming is not a easy to find a you thought . You realize the bad guy is not wearing a black cape and he 's not easy to spot ; he 's really funny , and he make you laugh , and he ha perfect hair . I suffer from girl-next-door-itis where the guy is friend with you and that 's it . Iâ€™ve learned that you canâ€™t predict [ love ] or plan for it . For someone like me who is obsessed with organization and planning , I love the idea that love is the one exception to that . Love is the one wild card . In high school , I used to think it wa like sooooo cool if a guy had an awesome car . Now none of that matter . These day I look for character , and honesty , and trust . I write song about my adventure and misadventure , most of which concern love . Love is a tricky business . But if it wa n't , I would n't be so enthralled with it . Lately I 've come to a wonderful realization that make me even more fascinated by it : I have no idea what I 'm doing when it come to love . No one doe ! There 's no pattern to it , except that it happens to all of u , of course . I ca n't plan for it . I ca n't predict how it 'll end up . Because love is unpredictable and it 's frustrating and it 's tragic and it 's beautiful . And even though there 's no way to feel like I 'm an expert at it , it 's worth writing song about -- more than anything else I 've ever experienced in my life . I love you like I love sparkle and having the last word . And that 's real love . I write a lot of song about love and I think thatâ€™s because to me love seems like this huge complicated thing . But it seems like every once in a while , two people get it figured out , two people get it right . And so I think the rest of u , we walk around daydreaming about what that might be like . To find that one great love , where all of a sudden everything that seemed to be so complicated , became simple . And everything that used to seem so wrong all of a sudden seemed right because you were with the person who made you feel fearless . Why leave when you can stay , why stay if you have to go If you 're horrible to me , I 'm going to write a song about it , and you wo n't like it . That 's how I operate . Just because a human being , what we ca n't have is what we reply in our head over and over again before we go to sleep . I still love sparkle and grocery shopping and really old cat that are only nice to you half the time . I still love writing in my journal and wearing dress all the time and staring at chandelier . I love these people so much and getting to go out there to look them in the eye and tell them that is my favorite part of the night . We should love , not fall in love because everything that fall break . In a relationship each person should support the other ; they should lift each other up . I 'm not opposed to falling in love You need to be happy with yourself or you 'll never be able to be happy in a relationship .\n"
     ]
    }
   ],
   "source": [
    "import nltk\n",
    "\n",
    "from nltk.stem import WordNetLemmatizer\n",
    "\n",
    "nltk.download('wordnet')\n",
    "# Initialize the WordNet Lemmatizer\n",
    "lemmatizer = WordNetLemmatizer()\n",
    "\n",
    "# Tokenize the text into words\n",
    "words = nltk.word_tokenize(TaylorSwiftQuotes)\n",
    "\n",
    "# Apply lemmatization to each word\n",
    "lemmatized_words = [lemmatizer.lemmatize(word) for word in words]\n",
    "\n",
    "# Join the lemmatized words back into a single string\n",
    "lemmatized_text = ' '.join(lemmatized_words)\n",
    "\n",
    "# Now, 'lemmatized_text' contains the text with words lemmatized\n",
    "print(lemmatized_text)\n",
    "\n",
    "\n",
    "    "
   ]
  },
  {
   "cell_type": "markdown",
   "id": "2e9041af",
   "metadata": {},
   "source": [
    "# Exercise A.4: Vocabulary\n"
   ]
  },
  {
   "cell_type": "code",
   "execution_count": null,
   "id": "5c80674f",
   "metadata": {},
   "outputs": [],
   "source": []
  },
  {
   "cell_type": "code",
   "execution_count": 44,
   "id": "26957b9a",
   "metadata": {},
   "outputs": [
    {
     "name": "stdout",
     "output_type": "stream",
     "text": [
      "{'adventures', 'beautiful.', 'it,', 'you', 'writing', 'lift', 'happy', 'from', 'the', 'experienced', 'matters.', 'tell', 'exception', 'high', 'none', 'of', 'tricky', \"That's\", 'thatâ€™s', 'up.', 'Charming', 'human', 'Then', 'each', 'come', 'figured', 'spot;', 'real', 'complicated', 'were', 'school,', 'honesty,', 'thing.', 'In', 'spot.', 'again', 'this', 'feel', 'journal', 'tragic', 'fairy', 'cats', 'meet', \"it'll\", 'songs', 'cape', 'while,', 'frustrating', 'beings,', 'be', 'obsessed', 'comes', 'car.', 'thought.', 'write', 'old', 'friends', 'though', 'breaks.', 'support', 'But', 'there', 'might', 'doing', 'even', 'about', 'suffer', 'where', 'end', 'huge', 'fearless.', 'go', 'seems', 'that', 'grocery', 'relationship.', 'expert', 'operate.', 'and', 'love,', 'our', 'concern', \"can't\", 'wanted.', 'wild', 'dresses', 'The', 'around', 'person', 'us,', 'two', 'fall', 'look', 'really', 'me,', 'worth', 'makes', 'You', 'getting', 'unpredictable', 'black', 'like', 'falls', 'learned', 'never', 'became', 'relationship', 'read', 'wearing', 'right', 'love.', 'pattern', 'reply', 'he', 'except', 'I', 'And', 'tales', 'if', 'last', 'opposed', 'so', 'made', 'for', 'half', 'these', 'bad', 'in', 'word.', 'over', 'having', 'nice', 'favorite', \"I've\", 'predict', 'does!', 'a', 'easy', 'more', 'out,', 'wrong', 'people', 'head', 'right.', 'them', 'tales.', 'sparkles', 'idea', 'trust.', 'sooooo', 'at', 'much', 'one', 'not', 'Why', 'stay', 'plan', \"he's\", 'realize', 'funny,', 'me', 'think', 'awesome', 'character,', \"wouldn't\", 'know', 'way', 'simple.', 'an', 'stay,', '[love]', '--', 'out', 'We', 'hair.', 'To', 'is.', 'used', 'was', \"you'll\", 'shopping', 'find', 'wonderful', 'than', 'business.', 'No', 'walk', \"won't\", 'For', 'course.', 'Because', 'are', 'night.', 'rest', 'up', 'to', 'it:', 'These', 'organization', 'yourself', 'it.', 'should', 'lot', \"I'm\", 'little', 'card.', 'complicated,', 'always', 'horrible', 'time', 'as', 'had', \"you're\", 'before', 'Iâ€™ve', 'love', 'is', 'can', 'If', 'falling', 'able', 'other', 'laugh,', 'like.', 'cool', 'still', 'most', 'no', 'has', 'planning,', 'girl', 'canâ€™t', 'or', 'what', 'once', 'misadventures,', 'get', 'seem', 'chandeliers.', 'leave', 'days', 'Love', 'someone', 'have', 'eye', 'realization', 'everything', 'only', 'with', 'else', 'daydreaming', 'guy', 'that.', 'every', 'need', 'why', 'very', \"that's\", 'it', 'when', 'happens', 'sudden', 'seemed', 'they', 'we', 'Lately', 'Now', 'going', 'staring', 'enthralled', 'time.', 'Prince', 'grow', 'sleep.', \"it's\", 'perfect', 'girl-next-door-itis', 'part', 'ever', 'fascinated', 'by', \"there's\", 'anything', 'life.', 'my', 'because', 'who', \"There's\", 'all', 'great', 'song', 'When', 'other;', \"wasn't,\", 'which', 'how', 'Just'}\n"
     ]
    }
   ],
   "source": [
    "# Tokenize the text into words\n",
    "words = TaylorSwiftQuotes.split()  # Using split() to separate words based on spaces, you can use other tokenization methods too\n",
    "# Create a set to store unique words (the vocabulary)\n",
    "vocabulary = set(words)\n",
    "\n",
    "# Create a set to store unique words (the vocabulary)\n",
    "vocabulary = set(words)\n",
    "print(vocabulary)\n"
   ]
  },
  {
   "cell_type": "markdown",
   "id": "8a945784",
   "metadata": {},
   "source": [
    "# Exercise A.5: One-hot encoding\n"
   ]
  },
  {
   "cell_type": "markdown",
   "id": "55c13e73",
   "metadata": {},
   "source": [
    "Perform one-hot encoding with respect to the vocabulary.\n"
   ]
  },
  {
   "cell_type": "code",
   "execution_count": 48,
   "id": "1f401010",
   "metadata": {},
   "outputs": [
    {
     "name": "stdout",
     "output_type": "stream",
     "text": [
      "One-hot encoding for the word 'love':\n",
      "[0, 0, 0, 0, 0, 0, 0, 0, 0, 0, 0, 0, 0, 0, 0, 0, 0, 0, 0, 0, 0, 0, 0, 0, 0, 0, 0, 0, 0, 0, 0, 0, 0, 0, 0, 0, 0, 0, 0, 0, 0, 0, 0, 0, 0, 0, 0, 0, 0, 0, 0, 0, 0, 0, 0, 0, 0, 0, 0, 0, 0, 0, 0, 0, 0, 0, 0, 0, 0, 0, 0, 0, 0, 0, 0, 0, 0, 0, 0, 0, 0, 0, 0, 0, 0, 0, 0, 0, 0, 0, 0, 0, 0, 0, 0, 0, 0, 0, 0, 0, 0, 0, 0, 1, 0, 0, 0, 0, 0, 0, 0, 0, 0, 0, 0, 0, 0, 0, 0, 0, 0, 0, 0, 0, 0, 0, 0, 0, 0, 0, 0, 0, 0, 0, 0, 0, 0, 0, 0, 0, 0, 0, 0, 0, 0, 0, 0, 0, 0, 0, 0, 0, 0, 0, 0, 0, 0, 0, 0, 0, 0, 0, 0, 0, 0, 0, 0, 0, 0, 0, 0, 0, 0, 0, 0, 0, 0, 0, 0, 0, 0, 0, 0, 0, 0, 0, 0, 0, 0, 0, 0, 0, 0, 0, 0, 0, 0, 0, 0, 0, 0, 0, 0, 0, 0, 0, 0, 0, 0, 0, 0, 0, 0, 0, 0, 0, 0, 0, 0, 0, 0, 0, 0, 0, 0, 0, 0, 0, 0, 0, 0, 0, 0, 0, 0, 0, 0, 0, 0, 0, 0, 0, 0, 0, 0, 0, 0, 0, 0, 0, 0, 0, 0, 0, 0, 0, 0, 0, 0, 0, 0, 0, 0, 0, 0, 0, 0, 0, 0, 0, 0, 0, 0, 0, 0, 0, 0, 0, 0, 0, 0, 0, 0, 0, 0, 0, 0, 0, 0, 0, 0, 0, 0, 0, 0, 0, 0]\n"
     ]
    }
   ],
   "source": [
    "words = vocabulary # Using split() to separate words based on spaces, you can use other tokenization methods too\n",
    "# Create a set to store unique words (the vocabulary)\n",
    "vocabulary = set(words)\n",
    "\n",
    "# Create a dictionary to map words to their one-hot encodings\n",
    "one_hot_encoding = {}\n",
    "for index, word in enumerate(vocabulary):\n",
    "    one_hot_vector = [0] * len(vocabulary)  # Create a vector of zeros with the same length as the vocabulary\n",
    "    one_hot_vector[index] = 1  # Set the index corresponding to the word to 1\n",
    "    one_hot_encoding[word] = one_hot_vector\n",
    "\n",
    "# Print the one-hot encoding for a specific word (e.g., \"love\")\n",
    "print(\"One-hot encoding for the word 'love':\")\n",
    "print(one_hot_encoding.get(\"love\"))"
   ]
  },
  {
   "cell_type": "markdown",
   "id": "8698ae2a",
   "metadata": {},
   "source": [
    "# Exercise A.6: Bag-of-words\n"
   ]
  },
  {
   "cell_type": "markdown",
   "id": "85c1c700",
   "metadata": {},
   "source": [
    "Encode every quote in the dataset as a bag-of-words.\n"
   ]
  },
  {
   "cell_type": "code",
   "execution_count": 61,
   "id": "ad733576",
   "metadata": {},
   "outputs": [
    {
     "name": "stdout",
     "output_type": "stream",
     "text": [
      "[[0 0 0 ... 0 8 0]\n",
      " [0 0 0 ... 0 1 0]\n",
      " [0 0 0 ... 0 1 0]\n",
      " ...\n",
      " [0 0 0 ... 0 0 0]\n",
      " [0 0 0 ... 0 0 0]\n",
      " [1 0 0 ... 0 2 1]]\n"
     ]
    }
   ],
   "source": [
    "from sklearn.feature_extraction.text import CountVectorizer\n",
    "\n",
    "# Read the content of the file\n",
    "with open(\"TaylorSwiftQuotes.txt\", \"r\") as file:\n",
    "    quotes = file.read().splitlines()  # Split the text into individual quotes\n",
    "\n",
    "# Create a CountVectorizer to convert quotes to a bag-of-words\n",
    "vectorizer = CountVectorizer()\n",
    "\n",
    "# Fit and transform the quotes into bag-of-words representation\n",
    "bag_of_words = vectorizer.fit_transform(quotes)\n",
    "\n",
    "# Get the vocabulary of words\n",
    "vocabulary = vectorizer.get_feature_names()\n",
    "\n",
    "# Convert the bag-of-words matrix to an array\n",
    "bag_of_words_array = bag_of_words.toarray()\n",
    "\n",
    "# print the bag of words\n",
    "print(bag_of_words_array)\n",
    "\n"
   ]
  },
  {
   "cell_type": "markdown",
   "id": "f5398fe3",
   "metadata": {},
   "source": [
    "# Exercise A.7: Bag-of-n-grams"
   ]
  },
  {
   "cell_type": "markdown",
   "id": "29b925db",
   "metadata": {},
   "source": [
    "1. Encode every quote as a bag-of-bigrams"
   ]
  },
  {
   "cell_type": "code",
   "execution_count": 64,
   "id": "67488fb6",
   "metadata": {},
   "outputs": [
    {
     "name": "stdout",
     "output_type": "stream",
     "text": [
      "[[0 0 0 ... 0 0 0]\n",
      " [0 0 0 ... 0 0 0]\n",
      " [0 0 0 ... 0 0 0]\n",
      " ...\n",
      " [0 0 0 ... 0 0 0]\n",
      " [0 0 0 ... 0 0 0]\n",
      " [1 0 0 ... 0 0 1]]\n"
     ]
    }
   ],
   "source": [
    "from sklearn.feature_extraction.text import CountVectorizer\n",
    "\n",
    "# Read the content of the file\n",
    "with open(\"TaylorSwiftQuotes.txt\", \"r\") as file:\n",
    "    quotes = file.read().splitlines()  # Split the text into individual quotes\n",
    "\n",
    "# Create a CountVectorizer to convert quotes to a bag-of-bigrams\n",
    "vectorizer = CountVectorizer(ngram_range=(2, 2))\n",
    "\n",
    "# Fit and transform the quotes into bag-of-bigrams representation\n",
    "bag_of_bigrams = vectorizer.fit_transform(quotes)\n",
    "\n",
    "# Get the vocabulary of bigrams\n",
    "vocabulary = vectorizer.get_feature_names()\n",
    "\n",
    "# Convert the bag-of-bigrams matrix to an array\n",
    "bag_of_bigrams_array = bag_of_bigrams.toarray()\n",
    "\n",
    "\n",
    "# Print the bigrams\n",
    "\n",
    "print(bag_of_bigrams_array)"
   ]
  },
  {
   "cell_type": "markdown",
   "id": "63badc9c",
   "metadata": {},
   "source": [
    "2. Encode every quote as a bag-of-trigrams.\n",
    "\n"
   ]
  },
  {
   "cell_type": "code",
   "execution_count": 66,
   "id": "bf905f02",
   "metadata": {},
   "outputs": [
    {
     "name": "stdout",
     "output_type": "stream",
     "text": [
      "[[0 0 0 ... 0 0 0]\n",
      " [0 0 0 ... 0 0 0]\n",
      " [0 0 0 ... 0 0 0]\n",
      " ...\n",
      " [0 0 0 ... 0 0 0]\n",
      " [0 0 0 ... 0 0 0]\n",
      " [1 0 0 ... 0 0 1]]\n"
     ]
    }
   ],
   "source": [
    "from sklearn.feature_extraction.text import CountVectorizer\n",
    "\n",
    "# Read the content of the file\n",
    "with open(\"TaylorSwiftQuotes.txt\", \"r\") as file:\n",
    "    quotes = file.read().splitlines()  # Split the text into individual quotes\n",
    "\n",
    "# Create a CountVectorizer to convert quotes to a bag-of-trigrams\n",
    "vectorizer = CountVectorizer(ngram_range=(3, 3))\n",
    "\n",
    "# Fit and transform the quotes into a bag-of-trigrams representation\n",
    "bag_of_trigrams = vectorizer.fit_transform(quotes)\n",
    "\n",
    "# Get the vocabulary of trigrams\n",
    "vocabulary = vectorizer.get_feature_names()\n",
    "\n",
    "# Convert the bag-of-trigrams matrix to an array\n",
    "bag_of_trigrams_array = bag_of_trigrams.toarray()\n",
    "\n",
    "\n",
    "# Print bag_of_trigrams\n",
    "print(bag_of_trigrams_array)"
   ]
  },
  {
   "cell_type": "markdown",
   "id": "a11b3247",
   "metadata": {},
   "source": [
    "# Exercise A.8: TF-IDF\n"
   ]
  },
  {
   "cell_type": "markdown",
   "id": "c18ce329",
   "metadata": {},
   "source": [
    "Encode every quote via the TF-IDF method.\n"
   ]
  },
  {
   "cell_type": "code",
   "execution_count": 67,
   "id": "8ec281a5",
   "metadata": {},
   "outputs": [
    {
     "name": "stdout",
     "output_type": "stream",
     "text": [
      "[[0.         0.         0.         ... 0.         0.29570625 0.        ]\n",
      " [0.         0.         0.         ... 0.         0.1530245  0.        ]\n",
      " [0.         0.         0.         ... 0.         0.08461639 0.        ]\n",
      " ...\n",
      " [0.         0.         0.         ... 0.         0.         0.        ]\n",
      " [0.         0.         0.         ... 0.         0.         0.        ]\n",
      " [0.23602736 0.         0.         ... 0.         0.23010353 0.23602736]]\n"
     ]
    }
   ],
   "source": [
    "from sklearn.feature_extraction.text import TfidfVectorizer\n",
    "\n",
    "# Read the content of the file\n",
    "with open(\"TaylorSwiftQuotes.txt\", \"r\") as file:\n",
    "    quotes = file.read().splitlines()  # Split the text into individual quotes\n",
    "\n",
    "# Create a TfidfVectorizer to convert quotes to TF-IDF representation\n",
    "tfidf_vectorizer = TfidfVectorizer()\n",
    "\n",
    "# Fit and transform the quotes into TF-IDF representation\n",
    "tfidf_matrix = tfidf_vectorizer.fit_transform(quotes)\n",
    "\n",
    "# Convert the TF-IDF matrix to an array\n",
    "tfidf_array = tfidf_matrix.toarray()\n",
    "\n",
    "#Print converted - TF-IDF matrix\n",
    "print(tfidf_array)"
   ]
  }
 ],
 "metadata": {
  "kernelspec": {
   "display_name": "Python 3 (ipykernel)",
   "language": "python",
   "name": "python3"
  },
  "language_info": {
   "codemirror_mode": {
    "name": "ipython",
    "version": 3
   },
   "file_extension": ".py",
   "mimetype": "text/x-python",
   "name": "python",
   "nbconvert_exporter": "python",
   "pygments_lexer": "ipython3",
   "version": "3.9.7"
  }
 },
 "nbformat": 4,
 "nbformat_minor": 5
}
